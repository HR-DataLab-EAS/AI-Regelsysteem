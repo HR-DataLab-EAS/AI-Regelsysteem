{
 "cells": [
  {
   "cell_type": "markdown",
   "metadata": {},
   "source": [
    "# afspraken voor de input\n",
    "\n",
    "Input voor de setpoint  = 750 - 900 oftevel 150 mm\n",
    "\n",
    "Input voor de hoogte    = 200 tot 1000 oftewel 800 mm\n",
    "\n",
    "Er kan gemeten worden tussen 200 tot 1000mm. Er wordt het beste gemeten tussen 750 en 900mm.\n",
    "\n"
   ]
  },
  {
   "cell_type": "markdown",
   "metadata": {},
   "source": [
    "# Importeren Packages"
   ]
  },
  {
   "cell_type": "code",
   "execution_count": 24,
   "metadata": {},
   "outputs": [],
   "source": [
    "\n",
    "import scipy.io\n",
    "import pandas as pd\n",
    "import numpy as np\n",
    "from scipy.optimize import minimize\n",
    "import torch\n"
   ]
  },
  {
   "cell_type": "markdown",
   "metadata": {},
   "source": [
    "# Functies defineren"
   ]
  },
  {
   "cell_type": "code",
   "execution_count": 25,
   "metadata": {},
   "outputs": [],
   "source": [
    "def initialise(a, b):\n",
    "    epsilon = 0.15\n",
    "    # Maakt een lege tensor van grootte (a, b+1) en vult die met waarden uit uniform(-epsilon, +epsilon)\n",
    "    c = torch.empty(a, b + 1).uniform_(-epsilon, epsilon)\n",
    "    return c"
   ]
  },
  {
   "cell_type": "code",
   "execution_count": null,
   "metadata": {},
   "outputs": [],
   "source": [
    "def neural_network(nn_params, input_layer_size, hidden_layer_size, output_layer_size, X, y, lamb):\n",
    "    # Weights are split back to Theta1, Theta2\n",
    "    Theta1 = np.reshape(nn_params[:hidden_layer_size * (input_layer_size + 1)],\n",
    "                        (hidden_layer_size, input_layer_size + 1))\n",
    "    Theta2 = np.reshape(nn_params[hidden_layer_size * (input_layer_size + 1):],\n",
    "                        (output_layer_size, hidden_layer_size + 1))\n",
    "\n",
    "    # Forward propagation\n",
    "    m = X.shape[0]\n",
    "    one_matrix = np.ones((m, 1))\n",
    "    X = np.append(one_matrix, X, axis=1)  # Adding bias unit to first layer\n",
    "    a1 = X\n",
    "    z2 = np.dot(X, Theta1.transpose())\n",
    "    a2 = 1 / (1 + np.exp(-z2))  # Activation for second layer\n",
    "    one_matrix = np.ones((m, 1))\n",
    "    a2 = np.append(one_matrix, a2, axis=1)  # Adding bias unit to hidden layer\n",
    "    z3 = np.dot(a2, Theta2.transpose())\n",
    "    a3 = 1 / (1 + np.exp(-z3))  # Activation for third layer\n",
    "\n",
    "    # Changing the y labels into vectors of boolean values.\n",
    "    # For each label between 0 and 9, there will be a vector of length 10\n",
    "    # where the ith element will be 1 if the label equals i\n",
    "    y_vect = np.zeros((m, 10))\n",
    "    for i in range(m):\n",
    "        y_vect[i, int(y[i])] = 1\n",
    "\n",
    "    # Calculating cost function\n",
    "    J = (1 / m) * (np.sum(np.sum(-y_vect * np.log(a3) - (1 - y_vect) * np.log(1 - a3)))) + (lamb / (2 * m)) * (\n",
    "                sum(sum(pow(Theta1[:, 1:], 2))) + sum(sum(pow(Theta2[:, 1:], 2))))\n",
    "\n",
    "    # backprop\n",
    "    Delta3 = a3 - y_vect\n",
    "    Delta2 = np.dot(Delta3, Theta2) * a2 * (1 - a2)\n",
    "    Delta2 = Delta2[:, 1:]\n",
    "\n",
    "    # gradient\n",
    "    Theta1[:, 0] = 0\n",
    "    Theta1_grad = (1 / m) * np.dot(Delta2.transpose(), a1) + (lamb / m) * Theta1\n",
    "    Theta2[:, 0] = 0\n",
    "    Theta2_grad = (1 / m) * np.dot(Delta3.transpose(), a2) + (lamb / m) * Theta2\n",
    "    grad = np.concatenate((Theta1_grad.flatten(), Theta2_grad.flatten()))\n",
    "\n",
    "    return J, grad\n"
   ]
  },
  {
   "cell_type": "code",
   "execution_count": null,
   "metadata": {},
   "outputs": [],
   "source": [
    "def predict(Theta1, Theta2, X):\n",
    "    m = X.shape[0]\n",
    "    \n",
    "    one_matrix = np.ones((m, 1))\n",
    "    X = np.append(one_matrix, X, axis=1)  # Adding bias unit to first layer\n",
    "    z2 = np.dot(X, Theta1.transpose())\n",
    "    a2 = 1 / (1 + np.exp(-z2))  # Activation for second layer\n",
    "    one_matrix = np.ones((m, 1))\n",
    "    a2 = np.append(one_matrix, a2, axis=1)  # Adding bias unit to hidden layer\n",
    "    z3 = np.dot(a2, Theta2.transpose())\n",
    "    a3 = 1 / (1 + np.exp(-z3))  # Activation for third layer\n",
    "    p = (np.argmax(a3, axis=1))  # Predicting the class on the basis of max value of hypothesis\n",
    "    return p\n"
   ]
  },
  {
   "cell_type": "markdown",
   "metadata": {},
   "source": [
    "# CSV Data importeren"
   ]
  },
  {
   "cell_type": "code",
   "execution_count": 29,
   "metadata": {},
   "outputs": [
    {
     "name": "stdout",
     "output_type": "stream",
     "text": [
      "      Tijd (s)  PWM (%)  Doel Hoogte (m)  Daadwerkelijke Hoogte (m)  \\\n",
      "0         0.01   100.00            0.500                      0.003   \n",
      "1         0.02   100.00            0.500                      0.008   \n",
      "2         0.03   100.00            0.500                      0.016   \n",
      "3         0.04   100.00            0.500                      0.027   \n",
      "4         0.05   100.00            0.500                      0.041   \n",
      "...        ...      ...              ...                        ...   \n",
      "996       9.97     0.00            0.576                      0.581   \n",
      "997       9.98    68.37            0.576                      0.581   \n",
      "998       9.99     0.00            0.576                      0.581   \n",
      "999      10.00     0.00            0.576                      0.580   \n",
      "1000     10.01   100.00            0.576                      0.581   \n",
      "\n",
      "      Snelheid (m/s)  \n",
      "0              0.272  \n",
      "1              0.545  \n",
      "2              0.817  \n",
      "3              1.089  \n",
      "4              1.361  \n",
      "...              ...  \n",
      "996           -0.082  \n",
      "997            0.073  \n",
      "998           -0.025  \n",
      "999           -0.123  \n",
      "1000           0.149  \n",
      "\n",
      "[1001 rows x 5 columns]\n"
     ]
    }
   ],
   "source": [
    "csv_path = '/Users/mitchelreints/Documents/Visuel Studio Code/Workspace [Python]/#AIregelsysteem/simulatie_resultaten_2025-03-04_12-48-39.csv'\n",
    "data = pd.read_csv(csv_path)\n",
    "print(data)"
   ]
  },
  {
   "cell_type": "markdown",
   "metadata": {},
   "source": [
    "## Data uit de csv halen"
   ]
  },
  {
   "cell_type": "code",
   "execution_count": 28,
   "metadata": {},
   "outputs": [
    {
     "name": "stdout",
     "output_type": "stream",
     "text": [
      "      Doel Hoogte (m)  Daadwerkelijke Hoogte (m)\n",
      "0               0.500                      0.003\n",
      "1               0.500                      0.008\n",
      "2               0.500                      0.016\n",
      "3               0.500                      0.027\n",
      "4               0.500                      0.041\n",
      "...               ...                        ...\n",
      "996             0.576                      0.581\n",
      "997             0.576                      0.581\n",
      "998             0.576                      0.581\n",
      "999             0.576                      0.580\n",
      "1000            0.576                      0.581\n",
      "\n",
      "[1001 rows x 2 columns]\n",
      "                            0      1      2      3      4      5      6     \\\n",
      "Doel Hoogte (m)            0.500  0.500  0.500  0.500  0.500  0.500  0.500   \n",
      "Daadwerkelijke Hoogte (m)  0.003  0.008  0.016  0.027  0.041  0.057  0.076   \n",
      "\n",
      "                            7      8      9     ...   991    992    993   \\\n",
      "Doel Hoogte (m)            0.500  0.500  0.500  ...  0.576  0.576  0.576   \n",
      "Daadwerkelijke Hoogte (m)  0.098  0.119  0.139  ...  0.581  0.582  0.582   \n",
      "\n",
      "                            994    995    996    997    998    999    1000  \n",
      "Doel Hoogte (m)            0.576  0.576  0.576  0.576  0.576  0.576  0.576  \n",
      "Daadwerkelijke Hoogte (m)  0.581  0.581  0.581  0.581  0.581  0.580  0.581  \n",
      "\n",
      "[2 rows x 1001 columns]\n",
      "0       100.00\n",
      "1       100.00\n",
      "2       100.00\n",
      "3       100.00\n",
      "4       100.00\n",
      "         ...  \n",
      "996       0.00\n",
      "997      68.37\n",
      "998       0.00\n",
      "999       0.00\n",
      "1000    100.00\n",
      "Name: PWM (%), Length: 1001, dtype: float64\n"
     ]
    },
    {
     "ename": "AttributeError",
     "evalue": "'Series' object has no attribute 'flatten'",
     "output_type": "error",
     "traceback": [
      "\u001b[0;31m---------------------------------------------------------------------------\u001b[0m",
      "\u001b[0;31mAttributeError\u001b[0m                            Traceback (most recent call last)",
      "\u001b[0;32m/var/folders/x8/nf9dsl317yl_1wcwtt70k9vh0000gn/T/ipykernel_19258/3585504945.py\u001b[0m in \u001b[0;36m?\u001b[0;34m()\u001b[0m\n\u001b[1;32m     12\u001b[0m \u001b[0;34m\u001b[0m\u001b[0m\n\u001b[1;32m     13\u001b[0m \u001b[0;31m# Labels\u001b[0m\u001b[0;34m\u001b[0m\u001b[0;34m\u001b[0m\u001b[0m\n\u001b[1;32m     14\u001b[0m \u001b[0mY\u001b[0m \u001b[0;34m=\u001b[0m \u001b[0mdata\u001b[0m\u001b[0;34m[\u001b[0m\u001b[0;34m\"PWM (%)\"\u001b[0m\u001b[0;34m]\u001b[0m\u001b[0;34m\u001b[0m\u001b[0;34m\u001b[0m\u001b[0m\n\u001b[1;32m     15\u001b[0m \u001b[0mprint\u001b[0m\u001b[0;34m(\u001b[0m\u001b[0mY\u001b[0m\u001b[0;34m)\u001b[0m\u001b[0;34m\u001b[0m\u001b[0;34m\u001b[0m\u001b[0m\n\u001b[0;32m---> 16\u001b[0;31m \u001b[0mY\u001b[0m \u001b[0;34m=\u001b[0m \u001b[0mY\u001b[0m\u001b[0;34m.\u001b[0m\u001b[0mflatten\u001b[0m\u001b[0;34m(\u001b[0m\u001b[0;34m)\u001b[0m\u001b[0;34m\u001b[0m\u001b[0;34m\u001b[0m\u001b[0m\n\u001b[0m\u001b[1;32m     17\u001b[0m \u001b[0mprint\u001b[0m\u001b[0;34m(\u001b[0m\u001b[0mY\u001b[0m\u001b[0;34m)\u001b[0m\u001b[0;34m\u001b[0m\u001b[0;34m\u001b[0m\u001b[0m\n",
      "\u001b[0;32m~/Documents/Visuel Studio Code/.venv/lib/python3.13/site-packages/pandas/core/generic.py\u001b[0m in \u001b[0;36m?\u001b[0;34m(self, name)\u001b[0m\n\u001b[1;32m   6295\u001b[0m             \u001b[0;32mand\u001b[0m \u001b[0mname\u001b[0m \u001b[0;32mnot\u001b[0m \u001b[0;32min\u001b[0m \u001b[0mself\u001b[0m\u001b[0;34m.\u001b[0m\u001b[0m_accessors\u001b[0m\u001b[0;34m\u001b[0m\u001b[0;34m\u001b[0m\u001b[0m\n\u001b[1;32m   6296\u001b[0m             \u001b[0;32mand\u001b[0m \u001b[0mself\u001b[0m\u001b[0;34m.\u001b[0m\u001b[0m_info_axis\u001b[0m\u001b[0;34m.\u001b[0m\u001b[0m_can_hold_identifiers_and_holds_name\u001b[0m\u001b[0;34m(\u001b[0m\u001b[0mname\u001b[0m\u001b[0;34m)\u001b[0m\u001b[0;34m\u001b[0m\u001b[0;34m\u001b[0m\u001b[0m\n\u001b[1;32m   6297\u001b[0m         \u001b[0;34m)\u001b[0m\u001b[0;34m:\u001b[0m\u001b[0;34m\u001b[0m\u001b[0;34m\u001b[0m\u001b[0m\n\u001b[1;32m   6298\u001b[0m             \u001b[0;32mreturn\u001b[0m \u001b[0mself\u001b[0m\u001b[0;34m[\u001b[0m\u001b[0mname\u001b[0m\u001b[0;34m]\u001b[0m\u001b[0;34m\u001b[0m\u001b[0;34m\u001b[0m\u001b[0m\n\u001b[0;32m-> 6299\u001b[0;31m         \u001b[0;32mreturn\u001b[0m \u001b[0mobject\u001b[0m\u001b[0;34m.\u001b[0m\u001b[0m__getattribute__\u001b[0m\u001b[0;34m(\u001b[0m\u001b[0mself\u001b[0m\u001b[0;34m,\u001b[0m \u001b[0mname\u001b[0m\u001b[0;34m)\u001b[0m\u001b[0;34m\u001b[0m\u001b[0;34m\u001b[0m\u001b[0m\n\u001b[0m",
      "\u001b[0;31mAttributeError\u001b[0m: 'Series' object has no attribute 'flatten'"
     ]
    }
   ],
   "source": [
    "# Normaliseer de kolommen: Doel door 150, Daadwerkelijke door 800\n",
    "X = data[[\"Doel Hoogte (m)\", \"Daadwerkelijke Hoogte (m)\"]]\n",
    "\n",
    "print(X)\n",
    "\n",
    "X = X.transpose()\n",
    "print(X)\n",
    "\n",
    "m = X.shape[0]\n",
    "\n",
    "\n",
    "\n",
    "# Labels\n",
    "Y = data[\"PWM (%)\"]\n",
    "print(Y)\n",
    "Y = Y.flatten()\n",
    "print(Y)\n"
   ]
  },
  {
   "cell_type": "markdown",
   "metadata": {},
   "source": [
    "# Labels uit de CSV halen"
   ]
  },
  {
   "cell_type": "code",
   "execution_count": 117,
   "metadata": {},
   "outputs": [
    {
     "name": "stdout",
     "output_type": "stream",
     "text": [
      "[100. 100. 100. ...   0.   0. 100.]\n",
      "[100. 100. 100. ...   0.   0. 100.]\n"
     ]
    }
   ],
   "source": [
    "#Labels\n",
    "Y = data[\"PWM (%)\"].values\n",
    "print(Y)\n",
    "Y = Y.flatten()\n",
    "print(Y)"
   ]
  },
  {
   "cell_type": "markdown",
   "metadata": {},
   "source": [
    "## Normaliseren van de data"
   ]
  },
  {
   "cell_type": "code",
   "execution_count": 116,
   "metadata": {},
   "outputs": [
    {
     "name": "stdout",
     "output_type": "stream",
     "text": [
      "                            0      1      2      3      4      5      6     \\\n",
      "Doel Hoogte (m)            0.500  0.500  0.500  0.500  0.500  0.500  0.500   \n",
      "Daadwerkelijke Hoogte (m)  0.003  0.008  0.016  0.027  0.041  0.057  0.076   \n",
      "\n",
      "                            7      8      9     ...   991    992    993   \\\n",
      "Doel Hoogte (m)            0.500  0.500  0.500  ...  0.576  0.576  0.576   \n",
      "Daadwerkelijke Hoogte (m)  0.098  0.119  0.139  ...  0.581  0.582  0.582   \n",
      "\n",
      "                            994    995    996    997    998    999    1000  \n",
      "Doel Hoogte (m)            0.576  0.576  0.576  0.576  0.576  0.576  0.576  \n",
      "Daadwerkelijke Hoogte (m)  0.581  0.581  0.581  0.581  0.581  0.580  0.581  \n",
      "\n",
      "[2 rows x 1001 columns]\n"
     ]
    }
   ],
   "source": [
    "X.loc[\"Doel Hoogte (m)\"] = X.loc[\"Doel Hoogte (m)\"] / 1\n",
    "X.loc[\"Daadwerkelijke Hoogte (m)\"] = X.loc[\"Daadwerkelijke Hoogte (m)\"] / 1\n",
    "print(X)"
   ]
  },
  {
   "cell_type": "markdown",
   "metadata": {},
   "source": [
    "## Data splitten tussen training data met 500 voorbeelden"
   ]
  },
  {
   "cell_type": "code",
   "execution_count": null,
   "metadata": {},
   "outputs": [],
   "source": [
    "X_train = X[:500, :]\n",
    "Y_train = Y[:500]\n",
    "print(X_train)\n",
    "print(Y_train)"
   ]
  },
  {
   "cell_type": "markdown",
   "metadata": {},
   "source": [
    "## Data splitten tussen test data met 500 voorbeelden"
   ]
  },
  {
   "cell_type": "code",
   "execution_count": null,
   "metadata": {},
   "outputs": [],
   "source": [
    "X_test = X[500:, :]\n",
    "Y_test = Y[500:]\n",
    "print(X_test)\n",
    "print(Y_test)"
   ]
  },
  {
   "cell_type": "markdown",
   "metadata": {},
   "source": [
    "## Bepalen grootte neuraal netwerk"
   ]
  },
  {
   "cell_type": "code",
   "execution_count": 14,
   "metadata": {},
   "outputs": [],
   "source": [
    "input_layer_size = 2  #Setpoints + Sample huidige hoogte + vorige Sample (N-1) + (N-2) + (N-3) + (N-...)\n",
    "hidden_layer_size = 100\n",
    "output_layer_size = 101 # 0 - 100 "
   ]
  },
  {
   "cell_type": "markdown",
   "metadata": {},
   "source": [
    "## Random initializeren van de Thetas"
   ]
  },
  {
   "cell_type": "code",
   "execution_count": 19,
   "metadata": {},
   "outputs": [
    {
     "name": "stdout",
     "output_type": "stream",
     "text": [
      "tensor([[-0.0663,  0.0611, -0.0357],\n",
      "        [ 0.0387, -0.0139, -0.0055],\n",
      "        [ 0.1354,  0.0040,  0.0340],\n",
      "        [-0.0164, -0.0765, -0.1105],\n",
      "        [-0.1334, -0.1480, -0.0741],\n",
      "        [ 0.1358,  0.1162, -0.0974],\n",
      "        [ 0.0237,  0.1407,  0.0660],\n",
      "        [-0.0906,  0.1099,  0.0446],\n",
      "        [-0.1147,  0.1362,  0.0325],\n",
      "        [ 0.0024,  0.1191, -0.0686],\n",
      "        [ 0.0005, -0.1081,  0.1076],\n",
      "        [ 0.0471, -0.0041, -0.0987],\n",
      "        [-0.1112,  0.0760, -0.0385],\n",
      "        [ 0.0494, -0.0837,  0.1115],\n",
      "        [ 0.0739, -0.0400,  0.0903],\n",
      "        [ 0.0484,  0.0799,  0.0221],\n",
      "        [-0.1001,  0.0454, -0.0973],\n",
      "        [-0.0079, -0.0719,  0.0744],\n",
      "        [ 0.0559,  0.0810, -0.0543],\n",
      "        [ 0.0078,  0.0837,  0.0424],\n",
      "        [ 0.1135,  0.0838,  0.0702],\n",
      "        [-0.0326, -0.0380,  0.1258],\n",
      "        [ 0.0452, -0.1296,  0.1126],\n",
      "        [ 0.0694, -0.0422,  0.0314],\n",
      "        [ 0.1423, -0.0963, -0.0647],\n",
      "        [ 0.0738, -0.0667,  0.0164],\n",
      "        [-0.0288,  0.1405,  0.0670],\n",
      "        [ 0.0359,  0.0623, -0.0664],\n",
      "        [ 0.0174,  0.0094,  0.1292],\n",
      "        [ 0.0179, -0.1228,  0.0032],\n",
      "        [ 0.1275, -0.1440,  0.0341],\n",
      "        [-0.1077, -0.1226,  0.0978],\n",
      "        [-0.0243, -0.0513, -0.1343],\n",
      "        [-0.0586, -0.1215,  0.0506],\n",
      "        [ 0.0564, -0.0425, -0.1006],\n",
      "        [-0.1020, -0.1150, -0.0550],\n",
      "        [ 0.0208, -0.1151, -0.0527],\n",
      "        [-0.1392,  0.0444,  0.1335],\n",
      "        [ 0.1389, -0.0110,  0.1453],\n",
      "        [-0.0788,  0.1406, -0.0104],\n",
      "        [-0.1306, -0.0678, -0.1491],\n",
      "        [ 0.0543,  0.0921, -0.1151],\n",
      "        [ 0.0759,  0.0700, -0.0267],\n",
      "        [ 0.1224,  0.0783,  0.0894],\n",
      "        [-0.0243, -0.1181,  0.1272],\n",
      "        [-0.0647, -0.0165,  0.0401],\n",
      "        [-0.1079,  0.1246,  0.1024],\n",
      "        [-0.0555,  0.0348, -0.0087],\n",
      "        [ 0.0188,  0.1066, -0.1119],\n",
      "        [-0.0470, -0.1156, -0.0983],\n",
      "        [-0.0618, -0.1372, -0.0226],\n",
      "        [ 0.1281,  0.0539,  0.1261],\n",
      "        [-0.0898, -0.0781,  0.0302],\n",
      "        [-0.0738,  0.0267,  0.0836],\n",
      "        [-0.1409, -0.1407, -0.0588],\n",
      "        [ 0.0376,  0.1240, -0.0707],\n",
      "        [-0.0159,  0.0192, -0.0069],\n",
      "        [ 0.1064, -0.1136,  0.1095],\n",
      "        [-0.0062,  0.1135,  0.0806],\n",
      "        [ 0.0953, -0.0459,  0.1353],\n",
      "        [ 0.1159, -0.1226, -0.1372],\n",
      "        [-0.0895, -0.0670, -0.0979],\n",
      "        [ 0.0273,  0.1472,  0.0186],\n",
      "        [ 0.0721,  0.1268, -0.1403],\n",
      "        [-0.0195,  0.1402,  0.0865],\n",
      "        [ 0.1243,  0.0902, -0.0993],\n",
      "        [-0.0973, -0.0162,  0.0217],\n",
      "        [ 0.0192, -0.0145,  0.0585],\n",
      "        [ 0.0517,  0.1161,  0.0305],\n",
      "        [ 0.0363, -0.0264,  0.0111],\n",
      "        [ 0.1139, -0.0556,  0.0648],\n",
      "        [-0.0859,  0.0200,  0.0670],\n",
      "        [-0.0160,  0.0551, -0.1416],\n",
      "        [ 0.0911,  0.0309,  0.1110],\n",
      "        [ 0.1399, -0.0240, -0.0943],\n",
      "        [ 0.0652,  0.0443, -0.0554],\n",
      "        [ 0.0928, -0.0049, -0.0945],\n",
      "        [-0.0386, -0.0415, -0.1161],\n",
      "        [-0.0543, -0.1430,  0.0145],\n",
      "        [-0.0619, -0.1163,  0.0280],\n",
      "        [ 0.1285, -0.0752,  0.0126],\n",
      "        [-0.0803, -0.0446, -0.0130],\n",
      "        [ 0.1208,  0.0662, -0.1162],\n",
      "        [-0.1099,  0.0009,  0.0297],\n",
      "        [-0.0707, -0.0766,  0.1259],\n",
      "        [-0.0208,  0.0896,  0.0501],\n",
      "        [ 0.1417, -0.1397, -0.0063],\n",
      "        [ 0.0365, -0.0519, -0.1013],\n",
      "        [-0.1340,  0.0627,  0.1361],\n",
      "        [-0.0904,  0.0105, -0.1449],\n",
      "        [ 0.1314,  0.0119, -0.0794],\n",
      "        [-0.0997, -0.1259,  0.1492],\n",
      "        [ 0.0158, -0.0040,  0.0702],\n",
      "        [ 0.1149,  0.1050, -0.0060],\n",
      "        [ 0.0845,  0.1369,  0.1200],\n",
      "        [-0.1094,  0.0258, -0.1003],\n",
      "        [-0.1408,  0.0163, -0.0063],\n",
      "        [-0.1496, -0.0965, -0.0606],\n",
      "        [ 0.0721, -0.1276,  0.0858],\n",
      "        [ 0.1495, -0.0152,  0.1062]])\n",
      "tensor([[-0.0184, -0.0134, -0.0147,  ..., -0.0911, -0.1169,  0.0123],\n",
      "        [ 0.0358, -0.0829,  0.1490,  ..., -0.1289,  0.1488,  0.0996],\n",
      "        [ 0.0396, -0.1036, -0.0329,  ..., -0.0984,  0.0196,  0.0614],\n",
      "        ...,\n",
      "        [-0.0593,  0.0417, -0.0399,  ..., -0.1373, -0.0936,  0.0910],\n",
      "        [-0.0508, -0.1395, -0.0920,  ..., -0.1443,  0.0519,  0.1447],\n",
      "        [-0.0200, -0.0716, -0.0277,  ...,  0.0506, -0.0198, -0.0565]])\n"
     ]
    }
   ],
   "source": [
    "initial_Theta1 = initialise(hidden_layer_size, input_layer_size)\n",
    "initial_Theta2 = initialise(output_layer_size, hidden_layer_size)\n",
    "print(initial_Theta1)\n",
    "print(initial_Theta2)"
   ]
  },
  {
   "cell_type": "markdown",
   "metadata": {},
   "source": [
    "## Zet twee arrays bij elkaar"
   ]
  },
  {
   "cell_type": "code",
   "execution_count": null,
   "metadata": {},
   "outputs": [],
   "source": [
    "initial_nn_params = np.concatenate((initial_Theta1.flatten(), initial_Theta2.flatten()))\n",
    "print(initial_nn_params)"
   ]
  },
  {
   "cell_type": "markdown",
   "metadata": {},
   "source": [
    "## Minimize fucntie aan roepen om de cost functie te minimaliseren en om de gewichten te trainen"
   ]
  },
  {
   "cell_type": "code",
   "execution_count": 119,
   "metadata": {},
   "outputs": [
    {
     "ename": "ValueError",
     "evalue": "cannot reshape array of size 10601 into shape (101,101)",
     "output_type": "error",
     "traceback": [
      "\u001b[0;31m---------------------------------------------------------------------------\u001b[0m",
      "\u001b[0;31mValueError\u001b[0m                                Traceback (most recent call last)",
      "Cell \u001b[0;32mIn[119], line 5\u001b[0m\n\u001b[1;32m      2\u001b[0m lambda_reg \u001b[38;5;241m=\u001b[39m \u001b[38;5;241m0.1\u001b[39m  \u001b[38;5;66;03m# To avoid overfitting\u001b[39;00m\n\u001b[1;32m      3\u001b[0m myargs \u001b[38;5;241m=\u001b[39m (input_layer_size, hidden_layer_size, output_layer_size, X_train, Y_train, lambda_reg)\n\u001b[0;32m----> 5\u001b[0m results \u001b[38;5;241m=\u001b[39m \u001b[43mminimize\u001b[49m\u001b[43m(\u001b[49m\u001b[43mneural_network\u001b[49m\u001b[43m,\u001b[49m\u001b[43m \u001b[49m\u001b[43mx0\u001b[49m\u001b[38;5;241;43m=\u001b[39;49m\u001b[43minitial_nn_params\u001b[49m\u001b[43m,\u001b[49m\u001b[43m \u001b[49m\u001b[43margs\u001b[49m\u001b[38;5;241;43m=\u001b[39;49m\u001b[43mmyargs\u001b[49m\u001b[43m,\u001b[49m\n\u001b[1;32m      6\u001b[0m \u001b[43m          \u001b[49m\u001b[43moptions\u001b[49m\u001b[38;5;241;43m=\u001b[39;49m\u001b[43m{\u001b[49m\u001b[38;5;124;43m'\u001b[39;49m\u001b[38;5;124;43mdisp\u001b[39;49m\u001b[38;5;124;43m'\u001b[39;49m\u001b[43m:\u001b[49m\u001b[43m \u001b[49m\u001b[38;5;28;43;01mTrue\u001b[39;49;00m\u001b[43m,\u001b[49m\u001b[43m \u001b[49m\u001b[38;5;124;43m'\u001b[39;49m\u001b[38;5;124;43mmaxiter\u001b[39;49m\u001b[38;5;124;43m'\u001b[39;49m\u001b[43m:\u001b[49m\u001b[43m \u001b[49m\u001b[43mmaxiter\u001b[49m\u001b[43m}\u001b[49m\u001b[43m,\u001b[49m\u001b[43m \u001b[49m\u001b[43mmethod\u001b[49m\u001b[38;5;241;43m=\u001b[39;49m\u001b[38;5;124;43m\"\u001b[39;49m\u001b[38;5;124;43mL-BFGS-B\u001b[39;49m\u001b[38;5;124;43m\"\u001b[39;49m\u001b[43m,\u001b[49m\u001b[43m \u001b[49m\u001b[43mjac\u001b[49m\u001b[38;5;241;43m=\u001b[39;49m\u001b[38;5;28;43;01mTrue\u001b[39;49;00m\u001b[43m)\u001b[49m\n\u001b[1;32m      7\u001b[0m nn_params \u001b[38;5;241m=\u001b[39m results[\u001b[38;5;124m\"\u001b[39m\u001b[38;5;124mx\u001b[39m\u001b[38;5;124m\"\u001b[39m]  \u001b[38;5;66;03m# Trained Theta is extracted\u001b[39;00m\n\u001b[1;32m      9\u001b[0m \u001b[38;5;66;03m# Assuming the correct shape should be (101, 101)\u001b[39;00m\n",
      "File \u001b[0;32m~/Documents/Visuel Studio Code/.venv/lib/python3.13/site-packages/scipy/optimize/_minimize.py:738\u001b[0m, in \u001b[0;36mminimize\u001b[0;34m(fun, x0, args, method, jac, hess, hessp, bounds, constraints, tol, callback, options)\u001b[0m\n\u001b[1;32m    735\u001b[0m     res \u001b[38;5;241m=\u001b[39m _minimize_newtoncg(fun, x0, args, jac, hess, hessp, callback,\n\u001b[1;32m    736\u001b[0m                              \u001b[38;5;241m*\u001b[39m\u001b[38;5;241m*\u001b[39moptions)\n\u001b[1;32m    737\u001b[0m \u001b[38;5;28;01melif\u001b[39;00m meth \u001b[38;5;241m==\u001b[39m \u001b[38;5;124m'\u001b[39m\u001b[38;5;124ml-bfgs-b\u001b[39m\u001b[38;5;124m'\u001b[39m:\n\u001b[0;32m--> 738\u001b[0m     res \u001b[38;5;241m=\u001b[39m \u001b[43m_minimize_lbfgsb\u001b[49m\u001b[43m(\u001b[49m\u001b[43mfun\u001b[49m\u001b[43m,\u001b[49m\u001b[43m \u001b[49m\u001b[43mx0\u001b[49m\u001b[43m,\u001b[49m\u001b[43m \u001b[49m\u001b[43margs\u001b[49m\u001b[43m,\u001b[49m\u001b[43m \u001b[49m\u001b[43mjac\u001b[49m\u001b[43m,\u001b[49m\u001b[43m \u001b[49m\u001b[43mbounds\u001b[49m\u001b[43m,\u001b[49m\n\u001b[1;32m    739\u001b[0m \u001b[43m                           \u001b[49m\u001b[43mcallback\u001b[49m\u001b[38;5;241;43m=\u001b[39;49m\u001b[43mcallback\u001b[49m\u001b[43m,\u001b[49m\u001b[43m \u001b[49m\u001b[38;5;241;43m*\u001b[39;49m\u001b[38;5;241;43m*\u001b[39;49m\u001b[43moptions\u001b[49m\u001b[43m)\u001b[49m\n\u001b[1;32m    740\u001b[0m \u001b[38;5;28;01melif\u001b[39;00m meth \u001b[38;5;241m==\u001b[39m \u001b[38;5;124m'\u001b[39m\u001b[38;5;124mtnc\u001b[39m\u001b[38;5;124m'\u001b[39m:\n\u001b[1;32m    741\u001b[0m     res \u001b[38;5;241m=\u001b[39m _minimize_tnc(fun, x0, args, jac, bounds, callback\u001b[38;5;241m=\u001b[39mcallback,\n\u001b[1;32m    742\u001b[0m                         \u001b[38;5;241m*\u001b[39m\u001b[38;5;241m*\u001b[39moptions)\n",
      "File \u001b[0;32m~/Documents/Visuel Studio Code/.venv/lib/python3.13/site-packages/scipy/optimize/_lbfgsb_py.py:386\u001b[0m, in \u001b[0;36m_minimize_lbfgsb\u001b[0;34m(fun, x0, args, jac, bounds, disp, maxcor, ftol, gtol, eps, maxfun, maxiter, iprint, callback, maxls, finite_diff_rel_step, **unknown_options)\u001b[0m\n\u001b[1;32m    383\u001b[0m     x0 \u001b[38;5;241m=\u001b[39m np\u001b[38;5;241m.\u001b[39mclip(x0, bounds[\u001b[38;5;241m0\u001b[39m], bounds[\u001b[38;5;241m1\u001b[39m])\n\u001b[1;32m    385\u001b[0m \u001b[38;5;66;03m# _prepare_scalar_function can use bounds=None to represent no bounds\u001b[39;00m\n\u001b[0;32m--> 386\u001b[0m sf \u001b[38;5;241m=\u001b[39m \u001b[43m_prepare_scalar_function\u001b[49m\u001b[43m(\u001b[49m\u001b[43mfun\u001b[49m\u001b[43m,\u001b[49m\u001b[43m \u001b[49m\u001b[43mx0\u001b[49m\u001b[43m,\u001b[49m\u001b[43m \u001b[49m\u001b[43mjac\u001b[49m\u001b[38;5;241;43m=\u001b[39;49m\u001b[43mjac\u001b[49m\u001b[43m,\u001b[49m\u001b[43m \u001b[49m\u001b[43margs\u001b[49m\u001b[38;5;241;43m=\u001b[39;49m\u001b[43margs\u001b[49m\u001b[43m,\u001b[49m\u001b[43m \u001b[49m\u001b[43mepsilon\u001b[49m\u001b[38;5;241;43m=\u001b[39;49m\u001b[43meps\u001b[49m\u001b[43m,\u001b[49m\n\u001b[1;32m    387\u001b[0m \u001b[43m                              \u001b[49m\u001b[43mbounds\u001b[49m\u001b[38;5;241;43m=\u001b[39;49m\u001b[43mbounds\u001b[49m\u001b[43m,\u001b[49m\n\u001b[1;32m    388\u001b[0m \u001b[43m                              \u001b[49m\u001b[43mfinite_diff_rel_step\u001b[49m\u001b[38;5;241;43m=\u001b[39;49m\u001b[43mfinite_diff_rel_step\u001b[49m\u001b[43m)\u001b[49m\n\u001b[1;32m    390\u001b[0m func_and_grad \u001b[38;5;241m=\u001b[39m sf\u001b[38;5;241m.\u001b[39mfun_and_grad\n\u001b[1;32m    392\u001b[0m nbd \u001b[38;5;241m=\u001b[39m zeros(n, np\u001b[38;5;241m.\u001b[39mint32)\n",
      "File \u001b[0;32m~/Documents/Visuel Studio Code/.venv/lib/python3.13/site-packages/scipy/optimize/_optimize.py:291\u001b[0m, in \u001b[0;36m_prepare_scalar_function\u001b[0;34m(fun, x0, jac, args, bounds, epsilon, finite_diff_rel_step, hess)\u001b[0m\n\u001b[1;32m    287\u001b[0m     bounds \u001b[38;5;241m=\u001b[39m (\u001b[38;5;241m-\u001b[39mnp\u001b[38;5;241m.\u001b[39minf, np\u001b[38;5;241m.\u001b[39minf)\n\u001b[1;32m    289\u001b[0m \u001b[38;5;66;03m# ScalarFunction caches. Reuse of fun(x) during grad\u001b[39;00m\n\u001b[1;32m    290\u001b[0m \u001b[38;5;66;03m# calculation reduces overall function evaluations.\u001b[39;00m\n\u001b[0;32m--> 291\u001b[0m sf \u001b[38;5;241m=\u001b[39m \u001b[43mScalarFunction\u001b[49m\u001b[43m(\u001b[49m\u001b[43mfun\u001b[49m\u001b[43m,\u001b[49m\u001b[43m \u001b[49m\u001b[43mx0\u001b[49m\u001b[43m,\u001b[49m\u001b[43m \u001b[49m\u001b[43margs\u001b[49m\u001b[43m,\u001b[49m\u001b[43m \u001b[49m\u001b[43mgrad\u001b[49m\u001b[43m,\u001b[49m\u001b[43m \u001b[49m\u001b[43mhess\u001b[49m\u001b[43m,\u001b[49m\n\u001b[1;32m    292\u001b[0m \u001b[43m                    \u001b[49m\u001b[43mfinite_diff_rel_step\u001b[49m\u001b[43m,\u001b[49m\u001b[43m \u001b[49m\u001b[43mbounds\u001b[49m\u001b[43m,\u001b[49m\u001b[43m \u001b[49m\u001b[43mepsilon\u001b[49m\u001b[38;5;241;43m=\u001b[39;49m\u001b[43mepsilon\u001b[49m\u001b[43m)\u001b[49m\n\u001b[1;32m    294\u001b[0m \u001b[38;5;28;01mreturn\u001b[39;00m sf\n",
      "File \u001b[0;32m~/Documents/Visuel Studio Code/.venv/lib/python3.13/site-packages/scipy/optimize/_differentiable_functions.py:223\u001b[0m, in \u001b[0;36mScalarFunction.__init__\u001b[0;34m(self, fun, x0, args, grad, hess, finite_diff_rel_step, finite_diff_bounds, epsilon)\u001b[0m\n\u001b[1;32m    220\u001b[0m     finite_diff_options[\u001b[38;5;124m\"\u001b[39m\u001b[38;5;124mas_linear_operator\u001b[39m\u001b[38;5;124m\"\u001b[39m] \u001b[38;5;241m=\u001b[39m \u001b[38;5;28;01mTrue\u001b[39;00m\n\u001b[1;32m    222\u001b[0m \u001b[38;5;66;03m# Initial function evaluation\u001b[39;00m\n\u001b[0;32m--> 223\u001b[0m \u001b[38;5;28;43mself\u001b[39;49m\u001b[38;5;241;43m.\u001b[39;49m\u001b[43m_update_fun\u001b[49m\u001b[43m(\u001b[49m\u001b[43m)\u001b[49m\n\u001b[1;32m    225\u001b[0m \u001b[38;5;66;03m# Initial gradient evaluation\u001b[39;00m\n\u001b[1;32m    226\u001b[0m \u001b[38;5;28mself\u001b[39m\u001b[38;5;241m.\u001b[39m_wrapped_grad, \u001b[38;5;28mself\u001b[39m\u001b[38;5;241m.\u001b[39m_ngev \u001b[38;5;241m=\u001b[39m _wrapper_grad(\n\u001b[1;32m    227\u001b[0m     grad,\n\u001b[1;32m    228\u001b[0m     fun\u001b[38;5;241m=\u001b[39m\u001b[38;5;28mself\u001b[39m\u001b[38;5;241m.\u001b[39m_wrapped_fun,\n\u001b[1;32m    229\u001b[0m     args\u001b[38;5;241m=\u001b[39margs,\n\u001b[1;32m    230\u001b[0m     finite_diff_options\u001b[38;5;241m=\u001b[39mfinite_diff_options\n\u001b[1;32m    231\u001b[0m )\n",
      "File \u001b[0;32m~/Documents/Visuel Studio Code/.venv/lib/python3.13/site-packages/scipy/optimize/_differentiable_functions.py:295\u001b[0m, in \u001b[0;36mScalarFunction._update_fun\u001b[0;34m(self)\u001b[0m\n\u001b[1;32m    293\u001b[0m \u001b[38;5;28;01mdef\u001b[39;00m\u001b[38;5;250m \u001b[39m\u001b[38;5;21m_update_fun\u001b[39m(\u001b[38;5;28mself\u001b[39m):\n\u001b[1;32m    294\u001b[0m     \u001b[38;5;28;01mif\u001b[39;00m \u001b[38;5;129;01mnot\u001b[39;00m \u001b[38;5;28mself\u001b[39m\u001b[38;5;241m.\u001b[39mf_updated:\n\u001b[0;32m--> 295\u001b[0m         fx \u001b[38;5;241m=\u001b[39m \u001b[38;5;28;43mself\u001b[39;49m\u001b[38;5;241;43m.\u001b[39;49m\u001b[43m_wrapped_fun\u001b[49m\u001b[43m(\u001b[49m\u001b[38;5;28;43mself\u001b[39;49m\u001b[38;5;241;43m.\u001b[39;49m\u001b[43mx\u001b[49m\u001b[43m)\u001b[49m\n\u001b[1;32m    296\u001b[0m         \u001b[38;5;28;01mif\u001b[39;00m fx \u001b[38;5;241m<\u001b[39m \u001b[38;5;28mself\u001b[39m\u001b[38;5;241m.\u001b[39m_lowest_f:\n\u001b[1;32m    297\u001b[0m             \u001b[38;5;28mself\u001b[39m\u001b[38;5;241m.\u001b[39m_lowest_x \u001b[38;5;241m=\u001b[39m \u001b[38;5;28mself\u001b[39m\u001b[38;5;241m.\u001b[39mx\n",
      "File \u001b[0;32m~/Documents/Visuel Studio Code/.venv/lib/python3.13/site-packages/scipy/optimize/_differentiable_functions.py:21\u001b[0m, in \u001b[0;36m_wrapper_fun.<locals>.wrapped\u001b[0;34m(x)\u001b[0m\n\u001b[1;32m     17\u001b[0m ncalls[\u001b[38;5;241m0\u001b[39m] \u001b[38;5;241m+\u001b[39m\u001b[38;5;241m=\u001b[39m \u001b[38;5;241m1\u001b[39m\n\u001b[1;32m     18\u001b[0m \u001b[38;5;66;03m# Send a copy because the user may overwrite it.\u001b[39;00m\n\u001b[1;32m     19\u001b[0m \u001b[38;5;66;03m# Overwriting results in undefined behaviour because\u001b[39;00m\n\u001b[1;32m     20\u001b[0m \u001b[38;5;66;03m# fun(self.x) will change self.x, with the two no longer linked.\u001b[39;00m\n\u001b[0;32m---> 21\u001b[0m fx \u001b[38;5;241m=\u001b[39m \u001b[43mfun\u001b[49m\u001b[43m(\u001b[49m\u001b[43mnp\u001b[49m\u001b[38;5;241;43m.\u001b[39;49m\u001b[43mcopy\u001b[49m\u001b[43m(\u001b[49m\u001b[43mx\u001b[49m\u001b[43m)\u001b[49m\u001b[43m,\u001b[49m\u001b[43m \u001b[49m\u001b[38;5;241;43m*\u001b[39;49m\u001b[43margs\u001b[49m\u001b[43m)\u001b[49m\n\u001b[1;32m     22\u001b[0m \u001b[38;5;66;03m# Make sure the function returns a true scalar\u001b[39;00m\n\u001b[1;32m     23\u001b[0m \u001b[38;5;28;01mif\u001b[39;00m \u001b[38;5;129;01mnot\u001b[39;00m np\u001b[38;5;241m.\u001b[39misscalar(fx):\n",
      "File \u001b[0;32m~/Documents/Visuel Studio Code/.venv/lib/python3.13/site-packages/scipy/optimize/_optimize.py:80\u001b[0m, in \u001b[0;36mMemoizeJac.__call__\u001b[0;34m(self, x, *args)\u001b[0m\n\u001b[1;32m     78\u001b[0m \u001b[38;5;28;01mdef\u001b[39;00m\u001b[38;5;250m \u001b[39m\u001b[38;5;21m__call__\u001b[39m(\u001b[38;5;28mself\u001b[39m, x, \u001b[38;5;241m*\u001b[39margs):\n\u001b[1;32m     79\u001b[0m \u001b[38;5;250m    \u001b[39m\u001b[38;5;124;03m\"\"\" returns the function value \"\"\"\u001b[39;00m\n\u001b[0;32m---> 80\u001b[0m     \u001b[38;5;28;43mself\u001b[39;49m\u001b[38;5;241;43m.\u001b[39;49m\u001b[43m_compute_if_needed\u001b[49m\u001b[43m(\u001b[49m\u001b[43mx\u001b[49m\u001b[43m,\u001b[49m\u001b[43m \u001b[49m\u001b[38;5;241;43m*\u001b[39;49m\u001b[43margs\u001b[49m\u001b[43m)\u001b[49m\n\u001b[1;32m     81\u001b[0m     \u001b[38;5;28;01mreturn\u001b[39;00m \u001b[38;5;28mself\u001b[39m\u001b[38;5;241m.\u001b[39m_value\n",
      "File \u001b[0;32m~/Documents/Visuel Studio Code/.venv/lib/python3.13/site-packages/scipy/optimize/_optimize.py:74\u001b[0m, in \u001b[0;36mMemoizeJac._compute_if_needed\u001b[0;34m(self, x, *args)\u001b[0m\n\u001b[1;32m     72\u001b[0m \u001b[38;5;28;01mif\u001b[39;00m \u001b[38;5;129;01mnot\u001b[39;00m np\u001b[38;5;241m.\u001b[39mall(x \u001b[38;5;241m==\u001b[39m \u001b[38;5;28mself\u001b[39m\u001b[38;5;241m.\u001b[39mx) \u001b[38;5;129;01mor\u001b[39;00m \u001b[38;5;28mself\u001b[39m\u001b[38;5;241m.\u001b[39m_value \u001b[38;5;129;01mis\u001b[39;00m \u001b[38;5;28;01mNone\u001b[39;00m \u001b[38;5;129;01mor\u001b[39;00m \u001b[38;5;28mself\u001b[39m\u001b[38;5;241m.\u001b[39mjac \u001b[38;5;129;01mis\u001b[39;00m \u001b[38;5;28;01mNone\u001b[39;00m:\n\u001b[1;32m     73\u001b[0m     \u001b[38;5;28mself\u001b[39m\u001b[38;5;241m.\u001b[39mx \u001b[38;5;241m=\u001b[39m np\u001b[38;5;241m.\u001b[39masarray(x)\u001b[38;5;241m.\u001b[39mcopy()\n\u001b[0;32m---> 74\u001b[0m     fg \u001b[38;5;241m=\u001b[39m \u001b[38;5;28;43mself\u001b[39;49m\u001b[38;5;241;43m.\u001b[39;49m\u001b[43mfun\u001b[49m\u001b[43m(\u001b[49m\u001b[43mx\u001b[49m\u001b[43m,\u001b[49m\u001b[43m \u001b[49m\u001b[38;5;241;43m*\u001b[39;49m\u001b[43margs\u001b[49m\u001b[43m)\u001b[49m\n\u001b[1;32m     75\u001b[0m     \u001b[38;5;28mself\u001b[39m\u001b[38;5;241m.\u001b[39mjac \u001b[38;5;241m=\u001b[39m fg[\u001b[38;5;241m1\u001b[39m]\n\u001b[1;32m     76\u001b[0m     \u001b[38;5;28mself\u001b[39m\u001b[38;5;241m.\u001b[39m_value \u001b[38;5;241m=\u001b[39m fg[\u001b[38;5;241m0\u001b[39m]\n",
      "Cell \u001b[0;32mIn[74], line 5\u001b[0m, in \u001b[0;36mneural_network\u001b[0;34m(nn_params, input_layer_size, hidden_layer_size, output_layer_size, X, y, lamb)\u001b[0m\n\u001b[1;32m      1\u001b[0m \u001b[38;5;28;01mdef\u001b[39;00m\u001b[38;5;250m \u001b[39m\u001b[38;5;21mneural_network\u001b[39m(nn_params, input_layer_size, hidden_layer_size, output_layer_size, X, y, lamb):\n\u001b[1;32m      2\u001b[0m     \u001b[38;5;66;03m# Weights are split back to Theta1, Theta2\u001b[39;00m\n\u001b[1;32m      3\u001b[0m     Theta1 \u001b[38;5;241m=\u001b[39m np\u001b[38;5;241m.\u001b[39mreshape(nn_params[:hidden_layer_size \u001b[38;5;241m*\u001b[39m (input_layer_size \u001b[38;5;241m+\u001b[39m \u001b[38;5;241m1\u001b[39m)],\n\u001b[1;32m      4\u001b[0m                         (hidden_layer_size, input_layer_size \u001b[38;5;241m+\u001b[39m \u001b[38;5;241m1\u001b[39m))\n\u001b[0;32m----> 5\u001b[0m     Theta2 \u001b[38;5;241m=\u001b[39m \u001b[43mnp\u001b[49m\u001b[38;5;241;43m.\u001b[39;49m\u001b[43mreshape\u001b[49m\u001b[43m(\u001b[49m\u001b[43mnn_params\u001b[49m\u001b[43m[\u001b[49m\u001b[43mhidden_layer_size\u001b[49m\u001b[43m \u001b[49m\u001b[38;5;241;43m*\u001b[39;49m\u001b[43m \u001b[49m\u001b[43m(\u001b[49m\u001b[43minput_layer_size\u001b[49m\u001b[43m \u001b[49m\u001b[38;5;241;43m+\u001b[39;49m\u001b[43m \u001b[49m\u001b[38;5;241;43m1\u001b[39;49m\u001b[43m)\u001b[49m\u001b[43m:\u001b[49m\u001b[43m]\u001b[49m\u001b[43m,\u001b[49m\n\u001b[1;32m      6\u001b[0m \u001b[43m                        \u001b[49m\u001b[43m(\u001b[49m\u001b[43moutput_layer_size\u001b[49m\u001b[43m,\u001b[49m\u001b[43m \u001b[49m\u001b[43mhidden_layer_size\u001b[49m\u001b[43m \u001b[49m\u001b[38;5;241;43m+\u001b[39;49m\u001b[43m \u001b[49m\u001b[38;5;241;43m1\u001b[39;49m\u001b[43m)\u001b[49m\u001b[43m)\u001b[49m\n\u001b[1;32m      8\u001b[0m     \u001b[38;5;66;03m# Forward propagation\u001b[39;00m\n\u001b[1;32m      9\u001b[0m     m \u001b[38;5;241m=\u001b[39m X\u001b[38;5;241m.\u001b[39mshape[\u001b[38;5;241m0\u001b[39m]\n",
      "File \u001b[0;32m~/Documents/Visuel Studio Code/.venv/lib/python3.13/site-packages/numpy/_core/fromnumeric.py:328\u001b[0m, in \u001b[0;36mreshape\u001b[0;34m(a, shape, order, newshape, copy)\u001b[0m\n\u001b[1;32m    326\u001b[0m \u001b[38;5;28;01mif\u001b[39;00m copy \u001b[38;5;129;01mis\u001b[39;00m \u001b[38;5;129;01mnot\u001b[39;00m \u001b[38;5;28;01mNone\u001b[39;00m:\n\u001b[1;32m    327\u001b[0m     \u001b[38;5;28;01mreturn\u001b[39;00m _wrapfunc(a, \u001b[38;5;124m'\u001b[39m\u001b[38;5;124mreshape\u001b[39m\u001b[38;5;124m'\u001b[39m, shape, order\u001b[38;5;241m=\u001b[39morder, copy\u001b[38;5;241m=\u001b[39mcopy)\n\u001b[0;32m--> 328\u001b[0m \u001b[38;5;28;01mreturn\u001b[39;00m \u001b[43m_wrapfunc\u001b[49m\u001b[43m(\u001b[49m\u001b[43ma\u001b[49m\u001b[43m,\u001b[49m\u001b[43m \u001b[49m\u001b[38;5;124;43m'\u001b[39;49m\u001b[38;5;124;43mreshape\u001b[39;49m\u001b[38;5;124;43m'\u001b[39;49m\u001b[43m,\u001b[49m\u001b[43m \u001b[49m\u001b[43mshape\u001b[49m\u001b[43m,\u001b[49m\u001b[43m \u001b[49m\u001b[43morder\u001b[49m\u001b[38;5;241;43m=\u001b[39;49m\u001b[43morder\u001b[49m\u001b[43m)\u001b[49m\n",
      "File \u001b[0;32m~/Documents/Visuel Studio Code/.venv/lib/python3.13/site-packages/numpy/_core/fromnumeric.py:57\u001b[0m, in \u001b[0;36m_wrapfunc\u001b[0;34m(obj, method, *args, **kwds)\u001b[0m\n\u001b[1;32m     54\u001b[0m     \u001b[38;5;28;01mreturn\u001b[39;00m _wrapit(obj, method, \u001b[38;5;241m*\u001b[39margs, \u001b[38;5;241m*\u001b[39m\u001b[38;5;241m*\u001b[39mkwds)\n\u001b[1;32m     56\u001b[0m \u001b[38;5;28;01mtry\u001b[39;00m:\n\u001b[0;32m---> 57\u001b[0m     \u001b[38;5;28;01mreturn\u001b[39;00m \u001b[43mbound\u001b[49m\u001b[43m(\u001b[49m\u001b[38;5;241;43m*\u001b[39;49m\u001b[43margs\u001b[49m\u001b[43m,\u001b[49m\u001b[43m \u001b[49m\u001b[38;5;241;43m*\u001b[39;49m\u001b[38;5;241;43m*\u001b[39;49m\u001b[43mkwds\u001b[49m\u001b[43m)\u001b[49m\n\u001b[1;32m     58\u001b[0m \u001b[38;5;28;01mexcept\u001b[39;00m \u001b[38;5;167;01mTypeError\u001b[39;00m:\n\u001b[1;32m     59\u001b[0m     \u001b[38;5;66;03m# A TypeError occurs if the object does have such a method in its\u001b[39;00m\n\u001b[1;32m     60\u001b[0m     \u001b[38;5;66;03m# class, but its signature is not identical to that of NumPy's. This\u001b[39;00m\n\u001b[0;32m   (...)\u001b[0m\n\u001b[1;32m     64\u001b[0m     \u001b[38;5;66;03m# Call _wrapit from within the except clause to ensure a potential\u001b[39;00m\n\u001b[1;32m     65\u001b[0m     \u001b[38;5;66;03m# exception has a traceback chain.\u001b[39;00m\n\u001b[1;32m     66\u001b[0m     \u001b[38;5;28;01mreturn\u001b[39;00m _wrapit(obj, method, \u001b[38;5;241m*\u001b[39margs, \u001b[38;5;241m*\u001b[39m\u001b[38;5;241m*\u001b[39mkwds)\n",
      "\u001b[0;31mValueError\u001b[0m: cannot reshape array of size 10601 into shape (101,101)"
     ]
    }
   ],
   "source": [
    "maxiter = 100\n",
    "lambda_reg = 0.1  # To avoid overfitting\n",
    "myargs = (input_layer_size, hidden_layer_size, output_layer_size, X_train, Y_train, lambda_reg)\n",
    "\n",
    "results = minimize(neural_network, x0=initial_nn_params, args=myargs,\n",
    "          options={'disp': True, 'maxiter': maxiter}, method=\"L-BFGS-B\", jac=True)\n",
    "nn_params = results[\"x\"]  # Trained Theta is extracted\n",
    "\n",
    "# Assuming the correct shape should be (101, 101)\n",
    "correct_shape = (101, 101)\n",
    "\n",
    "# Check the size of nn_params\n",
    "print(\"Size of nn_params:\", nn_params.size)\n",
    "\n",
    "# If the size matches the target shape, reshape it\n",
    "if nn_params.size == correct_shape[0] * correct_shape[1]:\n",
    "    reshaped_params = nn_params.reshape(correct_shape)\n",
    "    print(\"Reshaped nn_params:\", reshaped_params)\n",
    "else:\n",
    "    print(f\"Cannot reshape array of size {nn_params.size} into shape {correct_shape}\")\n",
    "\n"
   ]
  },
  {
   "cell_type": "markdown",
   "metadata": {},
   "source": [
    "## Gewichten worden verdeeld tussen de neuronen"
   ]
  },
  {
   "cell_type": "code",
   "execution_count": 118,
   "metadata": {},
   "outputs": [
    {
     "ename": "NameError",
     "evalue": "name 'nn_params' is not defined",
     "output_type": "error",
     "traceback": [
      "\u001b[0;31m---------------------------------------------------------------------------\u001b[0m",
      "\u001b[0;31mNameError\u001b[0m                                 Traceback (most recent call last)",
      "Cell \u001b[0;32mIn[118], line 1\u001b[0m\n\u001b[0;32m----> 1\u001b[0m Theta1 \u001b[38;5;241m=\u001b[39m np\u001b[38;5;241m.\u001b[39mreshape(\u001b[43mnn_params\u001b[49m[:hidden_layer_size \u001b[38;5;241m*\u001b[39m (input_layer_size \u001b[38;5;241m+\u001b[39m \u001b[38;5;241m1\u001b[39m)], (\n\u001b[1;32m      2\u001b[0m                               hidden_layer_size, input_layer_size \u001b[38;5;241m+\u001b[39m \u001b[38;5;241m1\u001b[39m))  \u001b[38;5;66;03m# Connecties tussen inputlayer en hidden_layer\u001b[39;00m\n\u001b[1;32m      3\u001b[0m Theta2 \u001b[38;5;241m=\u001b[39m np\u001b[38;5;241m.\u001b[39mreshape(nn_params[hidden_layer_size \u001b[38;5;241m*\u001b[39m (input_layer_size \u001b[38;5;241m+\u001b[39m \u001b[38;5;241m1\u001b[39m):],\n\u001b[1;32m      4\u001b[0m                       (output_layer_size, hidden_layer_size \u001b[38;5;241m+\u001b[39m \u001b[38;5;241m1\u001b[39m))  \u001b[38;5;66;03m# connecties tussen hidden_layer en output_layer\u001b[39;00m\n",
      "\u001b[0;31mNameError\u001b[0m: name 'nn_params' is not defined"
     ]
    }
   ],
   "source": [
    "Theta1 = np.reshape(nn_params[:hidden_layer_size * (input_layer_size + 1)], (\n",
    "                              hidden_layer_size, input_layer_size + 1))  # Connecties tussen inputlayer en hidden_layer\n",
    "Theta2 = np.reshape(nn_params[hidden_layer_size * (input_layer_size + 1):],\n",
    "                      (output_layer_size, hidden_layer_size + 1))  # connecties tussen hidden_layer en output_layer"
   ]
  },
  {
   "cell_type": "markdown",
   "metadata": {},
   "source": [
    "# Test Nauwkeurigheid checken"
   ]
  },
  {
   "cell_type": "code",
   "execution_count": null,
   "metadata": {},
   "outputs": [],
   "source": [
    "pred = predict(Theta1, Theta2, X_test)\n",
    "print('Test Nauwkeurigheid: {:f}'.format((np.mean(pred == y_test) * 100)))"
   ]
  },
  {
   "cell_type": "markdown",
   "metadata": {},
   "source": [
    "# Training set nauwkeurigheid checken"
   ]
  },
  {
   "cell_type": "code",
   "execution_count": null,
   "metadata": {},
   "outputs": [],
   "source": [
    "pred = predict(Theta1, Theta2, X_train)\n",
    "print('Training Set Nauwkeurigheid: {:f}'.format((np.mean(pred == y_train) * 100)))"
   ]
  }
 ],
 "metadata": {
  "kernelspec": {
   "display_name": ".venv",
   "language": "python",
   "name": "python3"
  },
  "language_info": {
   "codemirror_mode": {
    "name": "ipython",
    "version": 3
   },
   "file_extension": ".py",
   "mimetype": "text/x-python",
   "name": "python",
   "nbconvert_exporter": "python",
   "pygments_lexer": "ipython3",
   "version": "3.13.2"
  }
 },
 "nbformat": 4,
 "nbformat_minor": 2
}
